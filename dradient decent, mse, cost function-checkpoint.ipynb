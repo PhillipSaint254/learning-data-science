{
 "cells": [
  {
   "cell_type": "markdown",
   "id": "86a1e990",
   "metadata": {},
   "source": [
    "<img src=\"./resources/derivertives and mse.png\" alt=\"image\" />"
   ]
  },
  {
   "cell_type": "markdown",
   "id": "a1f58ccf",
   "metadata": {},
   "source": [
    "### mse = mean square error\n",
    "### a/am = partial derivertive of m\n",
    "### a/ab = partial derivertive of b"
   ]
  },
  {
   "cell_type": "code",
   "execution_count": 1,
   "id": "77d9a212",
   "metadata": {},
   "outputs": [],
   "source": [
    "  import numpy as np"
   ]
  },
  {
   "cell_type": "code",
   "execution_count": 3,
   "id": "07fa1bd9",
   "metadata": {},
   "outputs": [],
   "source": [
    "def gradient_descent(x,y):\n",
    "    m_curr = b_curr = 0"
   ]
  },
  {
   "cell_type": "code",
   "execution_count": 4,
   "id": "d0553c4e",
   "metadata": {},
   "outputs": [],
   "source": [
    "x=np.array([1,2,3,4,5])\n",
    "y = np.array([5,7,9,11,13])"
   ]
  },
  {
   "cell_type": "code",
   "execution_count": null,
   "id": "aa1b7524",
   "metadata": {},
   "outputs": [],
   "source": []
  }
 ],
 "metadata": {
  "kernelspec": {
   "display_name": "Python 3 (ipykernel)",
   "language": "python",
   "name": "python3"
  },
  "language_info": {
   "codemirror_mode": {
    "name": "ipython",
    "version": 3
   },
   "file_extension": ".py",
   "mimetype": "text/x-python",
   "name": "python",
   "nbconvert_exporter": "python",
   "pygments_lexer": "ipython3",
   "version": "3.9.7"
  }
 },
 "nbformat": 4,
 "nbformat_minor": 5
}
